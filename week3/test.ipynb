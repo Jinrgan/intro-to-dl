{
 "cells": [
  {
   "cell_type": "code",
   "execution_count": null,
   "metadata": {},
   "outputs": [],
   "source": []
  },
  {
   "cell_type": "markdown",
   "metadata": {},
   "source": [
    "# [None] and yield"
   ]
  },
  {
   "cell_type": "code",
   "execution_count": 2,
   "metadata": {},
   "outputs": [],
   "source": [
    "def _test_items_generator():\n",
    "    for i in range(10):\n",
    "        yield i"
   ]
  },
  {
   "cell_type": "code",
   "execution_count": 3,
   "metadata": {},
   "outputs": [
    {
     "data": {
      "text/plain": [
       "<function __main__._test_items_generator>"
      ]
     },
     "execution_count": 3,
     "metadata": {},
     "output_type": "execute_result"
    }
   ],
   "source": [
    "_test_items_generator"
   ]
  },
  {
   "cell_type": "code",
   "execution_count": 4,
   "metadata": {},
   "outputs": [
    {
     "name": "stdout",
     "output_type": "stream",
     "text": [
      "<function _test_items_generator at 0x7f4e7c1f0488>\n"
     ]
    }
   ],
   "source": [
    "print(_test_items_generator)"
   ]
  },
  {
   "cell_type": "code",
   "execution_count": 5,
   "metadata": {},
   "outputs": [
    {
     "ename": "TypeError",
     "evalue": "'function' object is not iterable",
     "output_type": "error",
     "traceback": [
      "\u001b[0;31m---------------------------------------------------------------------------\u001b[0m",
      "\u001b[0;31mTypeError\u001b[0m                                 Traceback (most recent call last)",
      "\u001b[0;32m<ipython-input-5-a9e3d103918e>\u001b[0m in \u001b[0;36m<module>\u001b[0;34m()\u001b[0m\n\u001b[0;32m----> 1\u001b[0;31m \u001b[0;32mfor\u001b[0m \u001b[0mi\u001b[0m \u001b[0;32min\u001b[0m \u001b[0m_test_items_generator\u001b[0m \u001b[0;34m:\u001b[0m\u001b[0;34m\u001b[0m\u001b[0m\n\u001b[0m\u001b[1;32m      2\u001b[0m     \u001b[0mprint\u001b[0m\u001b[0;34m(\u001b[0m\u001b[0mi\u001b[0m\u001b[0;34m)\u001b[0m\u001b[0;34m\u001b[0m\u001b[0m\n",
      "\u001b[0;31mTypeError\u001b[0m: 'function' object is not iterable"
     ]
    }
   ],
   "source": [
    "for i in _test_items_generator :\n",
    "    print(i)"
   ]
  },
  {
   "cell_type": "code",
   "execution_count": 9,
   "metadata": {},
   "outputs": [
    {
     "name": "stdout",
     "output_type": "stream",
     "text": [
      "0\n",
      "1\n",
      "2\n",
      "3\n",
      "4\n",
      "5\n",
      "6\n",
      "7\n",
      "8\n",
      "9\n"
     ]
    }
   ],
   "source": [
    "mygenerator = _test_items_generator()\n",
    "for i in mygenerator:\n",
    "    print(i)"
   ]
  },
  {
   "cell_type": "code",
   "execution_count": 6,
   "metadata": {},
   "outputs": [],
   "source": [
    "def createGenerator() :\n",
    "   mylist = range(3)\n",
    "   for i in mylist :\n",
    "       yield i*i"
   ]
  },
  {
   "cell_type": "code",
   "execution_count": 8,
   "metadata": {},
   "outputs": [
    {
     "name": "stdout",
     "output_type": "stream",
     "text": [
      "0\n",
      "1\n",
      "4\n"
     ]
    }
   ],
   "source": [
    "mygenerator = createGenerator()\n",
    "for i in mygenerator:\n",
    "    print(i)"
   ]
  },
  {
   "cell_type": "code",
   "execution_count": 14,
   "metadata": {},
   "outputs": [],
   "source": [
    "def batch_generator(items, batch_size):\n",
    "    \"\"\"\n",
    "    Implement batch generator that yields items by batches of size batch_size.\n",
    "    Remember about the last batch that can be smaller than batch_size!\n",
    "    \"\"\"\n",
    "    batch = [None] * batch_size\n",
    "    for i, item in enumerate(items):\n",
    "        batch[i%batch_size] = item\n",
    "        print(batch)\n",
    "        if i%batch_size == batch_size-1:\n",
    "            yield batch\n",
    "            batch = [None] * batch_size\n",
    "    if batch[0]:\n",
    "        yield [item for item in batch if item]"
   ]
  },
  {
   "cell_type": "code",
   "execution_count": 15,
   "metadata": {},
   "outputs": [
    {
     "data": {
      "text/plain": [
       "<generator object batch_generator at 0x7f4e7c1d2ca8>"
      ]
     },
     "execution_count": 15,
     "metadata": {},
     "output_type": "execute_result"
    }
   ],
   "source": [
    " batch_generator(range(10), 3)"
   ]
  },
  {
   "cell_type": "code",
   "execution_count": 18,
   "metadata": {},
   "outputs": [
    {
     "name": "stdout",
     "output_type": "stream",
     "text": [
      "[0, None, None]\n",
      "[0, 1, None]\n",
      "[0, 1, 2]\n",
      "[0, 1, 2]\n",
      "[3, None, None]\n",
      "[3, 4, None]\n",
      "[3, 4, 5]\n",
      "[3, 4, 5]\n",
      "[6, None, None]\n",
      "[6, 7, None]\n",
      "[6, 7, 8]\n",
      "[6, 7, 8]\n",
      "[9, None, None]\n",
      "[9]\n"
     ]
    }
   ],
   "source": [
    "mygenerator = batch_generator(range(10), 3)\n",
    "for i in mygenerator:\n",
    "    print(i)"
   ]
  },
  {
   "cell_type": "code",
   "execution_count": 19,
   "metadata": {},
   "outputs": [],
   "source": [
    "def batch_generator(items, batch_size):\n",
    "    \"\"\"\n",
    "    Implement batch generator that yields items by batches of size batch_size.\n",
    "    Remember about the last batch that can be smaller than batch_size!\n",
    "    \"\"\"\n",
    "    batch = [None] * batch_size\n",
    "    for i, item in enumerate(items):\n",
    "        batch[i%batch_size] = item\n",
    "        print(batch)\n",
    "        if i%batch_size == batch_size-1:\n",
    "            yield batch\n",
    "            batch = [None] * batch_size"
   ]
  },
  {
   "cell_type": "code",
   "execution_count": 20,
   "metadata": {},
   "outputs": [
    {
     "name": "stdout",
     "output_type": "stream",
     "text": [
      "[0, None, None]\n",
      "[0, 1, None]\n",
      "[0, 1, 2]\n",
      "[0, 1, 2]\n",
      "[3, None, None]\n",
      "[3, 4, None]\n",
      "[3, 4, 5]\n",
      "[3, 4, 5]\n",
      "[6, None, None]\n",
      "[6, 7, None]\n",
      "[6, 7, 8]\n",
      "[6, 7, 8]\n",
      "[9, None, None]\n"
     ]
    }
   ],
   "source": [
    "mygenerator = batch_generator(range(10), 3)\n",
    "for i in mygenerator:\n",
    "    print(i)"
   ]
  },
  {
   "cell_type": "code",
   "execution_count": 28,
   "metadata": {},
   "outputs": [],
   "source": [
    "def batch_generator(items, batch_size):\n",
    "    \"\"\"\n",
    "    Implement batch generator that yields items by batches of size batch_size.\n",
    "    Remember about the last batch that can be smaller than batch_size!\n",
    "    \"\"\"\n",
    "    batch = [None] * batch_size\n",
    "    for i, item in enumerate(items):\n",
    "        batch[i%batch_size] = item\n",
    "        print(batch, len(batch))\n",
    "        if i%batch_size == batch_size-1:\n",
    "            yield batch\n",
    "            batch = [None] * batch_size\n",
    "    if batch[0]:\n",
    "        yield [item for item in batch if item]\n",
    "        print(batch)#, batch.shape)"
   ]
  },
  {
   "cell_type": "code",
   "execution_count": 29,
   "metadata": {},
   "outputs": [
    {
     "name": "stdout",
     "output_type": "stream",
     "text": [
      "[0, None, None] 3\n",
      "[0, 1, None] 3\n",
      "[0, 1, 2] 3\n",
      "[0, 1, 2]\n",
      "[3, None, None] 3\n",
      "[3, 4, None] 3\n",
      "[3, 4, 5] 3\n",
      "[3, 4, 5]\n",
      "[6, None, None] 3\n",
      "[6, 7, None] 3\n",
      "[6, 7, 8] 3\n",
      "[6, 7, 8]\n",
      "[9, None, None] 3\n",
      "[9]\n",
      "[9, None, None]\n"
     ]
    }
   ],
   "source": [
    "mygenerator = batch_generator(range(10), 3)\n",
    "for i in mygenerator:\n",
    "    print(i)"
   ]
  },
  {
   "cell_type": "code",
   "execution_count": null,
   "metadata": {},
   "outputs": [],
   "source": []
  }
 ],
 "metadata": {
  "kernelspec": {
   "display_name": "Python 3",
   "language": "python",
   "name": "python3"
  },
  "language_info": {
   "codemirror_mode": {
    "name": "ipython",
    "version": 3
   },
   "file_extension": ".py",
   "mimetype": "text/x-python",
   "name": "python",
   "nbconvert_exporter": "python",
   "pygments_lexer": "ipython3",
   "version": "3.5.2"
  },
  "toc": {
   "nav_menu": {},
   "number_sections": true,
   "sideBar": false,
   "skip_h1_title": false,
   "toc_cell": false,
   "toc_position": {
    "height": "588px",
    "left": "1119px",
    "right": "20px",
    "top": "111px",
    "width": "212px"
   },
   "toc_section_display": "block",
   "toc_window_display": true
  }
 },
 "nbformat": 4,
 "nbformat_minor": 2
}
